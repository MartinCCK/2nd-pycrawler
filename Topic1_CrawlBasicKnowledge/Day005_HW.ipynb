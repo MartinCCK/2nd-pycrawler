{
 "cells": [
  {
   "cell_type": "markdown",
   "metadata": {},
   "source": [
    "# API 資料串接 - 以 Dcard API 實作範例\n",
    "\n",
    "* 了解 Dcard API 使用方式與回傳內容\n",
    "* 撰寫程式存取 API 且解析 JSON 格式資料\n"
   ]
  },
  {
   "cell_type": "markdown",
   "metadata": {},
   "source": [
    "## 作業目標\n",
    "\n",
    "* 請利用 API: https://www.dcard.tw/_api/forums/pet/posts?popular=true 回答下列問題：\n",
    "\n",
    "1. 這個 API 一次會回傳幾筆資料？每一筆資料包含哪些欄位？\n",
    "2. 取出每一筆資料的「標題」、「貼文時間」、「留言人數」、「按讚人數」\n",
    "3. 計算熱門/非熱門文章的「平均留言人數」與「平均按讚人數」"
   ]
  },
  {
   "cell_type": "code",
   "execution_count": 2,
   "metadata": {},
   "outputs": [
    {
     "name": "stdout",
     "output_type": "stream",
     "text": [
      "30\n"
     ]
    }
   ],
   "source": [
    "# 1. 這個 API 一次會回傳幾筆資料？每一筆資料包含哪些欄位？\n",
    "\n",
    "# MyCode\n",
    "import requests\n",
    "import json\n",
    "r = requests.get('https://www.dcard.tw/_api/forums/pet/posts?popular=true')\n",
    "data = json.loads(r.text)\n",
    "print(len(data))\n",
    "# MyCode"
   ]
  },
  {
   "cell_type": "code",
   "execution_count": 9,
   "metadata": {},
   "outputs": [
    {
     "name": "stdout",
     "output_type": "stream",
     "text": [
      "{'title': '#送養 半山腰撿到被別人丟棄的狗狗', 'createdAt': '2020-04-03T10:53:47.314Z', 'commentCount': 7, 'likeCount': 210}\n",
      "{'title': '我的寵物鴨？！', 'createdAt': '2020-04-04T02:43:06.496Z', 'commentCount': 15, 'likeCount': 190}\n",
      "{'title': '阿福大哥健在的19歲', 'createdAt': '2020-04-03T08:48:40.456Z', 'commentCount': 11, 'likeCount': 101}\n",
      "{'title': '多才多藝的貓🐱', 'createdAt': '2020-04-03T11:53:58.518Z', 'commentCount': 13, 'likeCount': 37}\n",
      "{'title': '自己蓋被子的貓', 'createdAt': '2020-04-03T18:59:51.291Z', 'commentCount': 3, 'likeCount': 28}\n",
      "{'title': '吃完蟲癭果的貓⋯', 'createdAt': '2020-04-03T10:56:13.466Z', 'commentCount': 1, 'likeCount': 20}\n",
      "{'title': '同學你的貓太可愛了吧', 'createdAt': '2020-04-03T21:05:25.565Z', 'commentCount': 1, 'likeCount': 17}\n",
      "{'title': '瑪爾濟6😂', 'createdAt': '2020-04-03T11:55:34.028Z', 'commentCount': 2, 'likeCount': 15}\n",
      "{'title': '毛小孩的更衣室開箱💁🏻\\u200d♀️ - 衣服篇', 'createdAt': '2020-04-04T15:36:54.166Z', 'commentCount': 6, 'likeCount': 13}\n",
      "{'title': '我的貓咪太郎❤️', 'createdAt': '2020-04-03T14:42:14.531Z', 'commentCount': 1, 'likeCount': 13}\n",
      "{'title': '我家柯基寶貝❤❤', 'createdAt': '2020-04-04T05:48:30.181Z', 'commentCount': 2, 'likeCount': 11}\n",
      "{'title': '覺得自家貓貓真的很適合做梗圖', 'createdAt': '2020-04-04T00:55:02.547Z', 'commentCount': 0, 'likeCount': 11}\n",
      "{'title': '我鄙視😒你...', 'createdAt': '2020-04-03T15:40:38.564Z', 'commentCount': 1, 'likeCount': 11}\n",
      "{'title': '科基同學會', 'createdAt': '2020-04-03T10:35:38.371Z', 'commentCount': 1, 'likeCount': 11}\n",
      "{'title': '#送養 兩隻小奶貓', 'createdAt': '2020-04-04T07:58:01.883Z', 'commentCount': 1, 'likeCount': 9}\n",
      "{'title': '［送養］狗-花蓮/全台-曾受虐的米克斯找家', 'createdAt': '2020-04-04T06:27:56.085Z', 'commentCount': 0, 'likeCount': 9}\n",
      "{'title': '來辦一場貓貓慶生派對！', 'createdAt': '2020-04-04T14:25:13.540Z', 'commentCount': 0, 'likeCount': 7}\n",
      "{'title': '我有胖到需要減肥嗎！？', 'createdAt': '2020-04-04T12:08:57.250Z', 'commentCount': 0, 'likeCount': 7}\n",
      "{'title': '你們的貓長不長？', 'createdAt': '2020-04-04T10:45:59.133Z', 'commentCount': 0, 'likeCount': 7}\n",
      "{'title': '高手🤣', 'createdAt': '2020-04-04T07:16:07.094Z', 'commentCount': 3, 'likeCount': 7}\n",
      "{'title': '如何帶貓到溫哥華（加拿大航空搭乘分享）', 'createdAt': '2020-04-03T23:01:47.265Z', 'commentCount': 3, 'likeCount': 7}\n",
      "{'title': '主人失業 我只能下田賣命了', 'createdAt': '2020-04-03T12:49:32.205Z', 'commentCount': 0, 'likeCount': 7}\n",
      "{'title': '臨演，該出來了吧', 'createdAt': '2020-04-03T08:48:43.004Z', 'commentCount': 1, 'likeCount': 7}\n",
      "{'title': '狗狗被活生生撞死。。。', 'createdAt': '2020-04-04T10:27:09.511Z', 'commentCount': 5, 'likeCount': 6}\n",
      "{'title': '你算什麼東西', 'createdAt': '2020-04-04T03:54:29.602Z', 'commentCount': 1, 'likeCount': 6}\n",
      "{'title': '我開頻道了！照阿滴的話來發文了！', 'createdAt': '2020-04-03T15:39:37.615Z', 'commentCount': 5, 'likeCount': 6}\n",
      "{'title': '跟風一波！紙壁虎！！', 'createdAt': '2020-04-04T13:15:56.578Z', 'commentCount': 1, 'likeCount': 5}\n",
      "{'title': '求 限動出現的超可愛貓咪', 'createdAt': '2020-04-04T12:25:12.314Z', 'commentCount': 4, 'likeCount': 5}\n",
      "{'title': '問 法鬥的飼養注意？', 'createdAt': '2020-04-04T04:58:57.578Z', 'commentCount': 0, 'likeCount': 5}\n",
      "{'title': '這是在撒嬌嗎♡', 'createdAt': '2020-04-04T03:48:43.107Z', 'commentCount': 1, 'likeCount': 5}\n"
     ]
    }
   ],
   "source": [
    "# 2. 取出每一筆資料的「標題」、「貼文時間」、「留言人數」、「按讚人數」\n",
    "# MyCode\n",
    "output = []\n",
    "for item in data:\n",
    "    output.append(dict(title=item['title'],\n",
    "                       createdAt=item['createdAt'],\n",
    "                       commentCount=item['commentCount'],\n",
    "                       likeCount=item['likeCount']))\n",
    "for item in output:\n",
    "    print(item)\n",
    "# MyCode"
   ]
  },
  {
   "cell_type": "code",
   "execution_count": 19,
   "metadata": {},
   "outputs": [],
   "source": [
    "# 3. 計算熱門/非熱門文章的「平均留言人數」與「平均按讚人數」\n",
    "# MyCode\n",
    "popular = json.loads(requests.get('https://www.dcard.tw/_api/forums/pet/posts?popular=true').text)\n",
    "nonpopular = json.loads(requests.get('https://www.dcard.tw/_api/forums/pet/posts?popular=false').text)\n",
    "len_popular = len(popular)\n",
    "len_nonpopular = len(nonpopular)\n",
    "average_popular_comment = sum(map(lambda x:x['commentCount'],popular))/len_popular\n",
    "average_popular_like = sum(map(lambda x:x['likeCount'],popular))/len_popular\n",
    "average_nonpopular_comment = sum(map(lambda x:x['commentCount'],nonpopular))/len_nonpopular\n",
    "average_nonpopular_like = sum(map(lambda x:x['likeCount'],nonpopular)/len_nonpopular\n",
    "print(f'熱門 平均留言人數:{average_popular_comment},平均按讚人數:{average_popular_like}')\n",
    "print(f'非熱門 平均留言人數:{average_nonpopular_comment},平均按讚人數:{average_nonpopular_like}')\n",
    "# MyCode"
   ]
  }
 ],
 "metadata": {
  "kernelspec": {
   "display_name": "Python 3",
   "language": "python",
   "name": "python3"
  },
  "language_info": {
   "codemirror_mode": {
    "name": "ipython",
    "version": 3
   },
   "file_extension": ".py",
   "mimetype": "text/x-python",
   "name": "python",
   "nbconvert_exporter": "python",
   "pygments_lexer": "ipython3",
   "version": "3.7.6"
  }
 },
 "nbformat": 4,
 "nbformat_minor": 2
}
